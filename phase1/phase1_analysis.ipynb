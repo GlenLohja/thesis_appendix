{
 "cells": [
  {
   "cell_type": "code",
   "execution_count": 1,
   "id": "3c134e19-db5e-4050-b075-92d343ebf602",
   "metadata": {},
   "outputs": [],
   "source": [
    "from sklearn.preprocessing import LabelEncoder"
   ]
  },
  {
   "cell_type": "code",
   "execution_count": 2,
   "id": "f62bb33d-f2ad-47c4-8368-d0a837199211",
   "metadata": {},
   "outputs": [],
   "source": [
    "%matplotlib inline"
   ]
  },
  {
   "cell_type": "code",
   "execution_count": 3,
   "id": "8b46d292-97db-486b-93d2-a000c22e10f7",
   "metadata": {},
   "outputs": [
    {
     "name": "stderr",
     "output_type": "stream",
     "text": [
      "/tmp/ipykernel_19617/1054018543.py:3: DeprecationWarning: \n",
      "Pyarrow will become a required dependency of pandas in the next major release of pandas (pandas 3.0),\n",
      "(to allow more performant data types, such as the Arrow string type, and better interoperability with other libraries)\n",
      "but was not found to be installed on your system.\n",
      "If this would cause problems for you,\n",
      "please provide us feedback at https://github.com/pandas-dev/pandas/issues/54466\n",
      "        \n",
      "  import pandas as pd\n"
     ]
    }
   ],
   "source": [
    "import os\n",
    "import csv\n",
    "import pandas as pd\n",
    "import numpy as np\n",
    "import matplotlib.pylab as plt"
   ]
  },
  {
   "cell_type": "code",
   "execution_count": 9,
   "id": "42046556-2168-4b7c-8d5e-1c72b8b8ed77",
   "metadata": {},
   "outputs": [],
   "source": [
    "def getRxPacketFile(eNBArray, UEArray, basefolder = ''):\n",
    "\n",
    "    filename = 'average_SINR.txt'\n",
    "    if os.path.isfile(filename):\n",
    "        with open(filename, \"r\") as rxpacketfile:\n",
    "            return pd.read_csv(rxpacketfile, sep='\\t', \\\n",
    "                               names=['mode', 'time', 'frame', 'subF', '1stSym', \\\n",
    "                                   'symbol#', 'cellId', 'rnti', 'ccId', 'tbSize', 'mcs', 'rv', \\\n",
    "                                   'SINR(dB)', 'corrupt', 'TBler'], \\\n",
    "                               dtype={'mode': str}, \\\n",
    "                               index_col=1,\n",
    "                               low_memory=False,\n",
    "                               #skiprows=0,\n",
    "                               #header=0,\n",
    "                               verbose=True,\n",
    "                               \n",
    "                              )\n",
    "    else:\n",
    "        return None\n",
    "    "
   ]
  },
  {
   "cell_type": "code",
   "execution_count": 10,
   "id": "45c922bb-d962-463a-8855-3525a8933616",
   "metadata": {},
   "outputs": [],
   "source": [
    "def getTcpWindowFile(basefolder = ''):\n",
    "    filename = 'mmWave-tcp-window-newreno-normal.txt'\n",
    "    if os.path.isfile(filename):\n",
    "        with open(filename, \"r\") as file:\n",
    "            return pd.read_csv(file, sep='\\t', \\\n",
    "                               names=['time', 'old_CWND', 'new_CWND'],\n",
    "                               index_col=0,\n",
    "                               low_memory=False,\n",
    "                               #skiprows=0,\n",
    "                               #header=0,\n",
    "                               verbose=True,\n",
    "                              )\n",
    "    else:\n",
    "        return None"
   ]
  },
  {
   "cell_type": "code",
   "execution_count": 11,
   "id": "4897a1d7-3844-4807-88e6-34b49914ed60",
   "metadata": {},
   "outputs": [],
   "source": [
    "def getTcpRTTFile(basefolder = ''):\n",
    "\n",
    "    filename = 'mmWave-tcp-rtt-newreno-normal.txt'\n",
    "    if os.path.isfile(filename):\n",
    "        with open(filename, \"r\") as file:\n",
    "            return pd.read_csv(file, sep='\\t', \\\n",
    "                               names=['time', 'old_RTT', 'new_RTT'],\n",
    "                               index_col=0,\n",
    "                               low_memory=False,\n",
    "                               #skiprows=0,\n",
    "                               #header=0,\n",
    "                               verbose=True,\n",
    "                              )\n",
    "    else:\n",
    "        return None\n",
    "    \n"
   ]
  },
  {
   "cell_type": "code",
   "execution_count": 12,
   "id": "ca980185-ee9a-47d4-aeeb-010cbf22f46b",
   "metadata": {},
   "outputs": [],
   "source": [
    "def getTcpDataFile(basefolder = ''):\n",
    "    filename = 'mmWave-tcp-data-newreno-normal.txt'\n",
    "    if os.path.isfile(filename):\n",
    "        with open(filename, \"r\") as file:\n",
    "            return pd.read_csv(file, sep='\\t', \\\n",
    "                               names=['time', 'PKG_SIZE'],\n",
    "                               index_col=0,\n",
    "                               low_memory=False,\n",
    "                               #skiprows=0,\n",
    "                               #header=0,\n",
    "                               verbose=True,\n",
    "                              )\n",
    "    else:\n",
    "        return None\n",
    "    \n",
    "\n",
    "        "
   ]
  },
  {
   "cell_type": "code",
   "execution_count": 13,
   "id": "46ea8bf1-f0aa-48f3-8c3c-1c53a5d8f0c4",
   "metadata": {},
   "outputs": [
    {
     "name": "stderr",
     "output_type": "stream",
     "text": [
      "/tmp/ipykernel_19617/598467818.py:6: FutureWarning: The 'verbose' keyword in pd.read_csv is deprecated and will be removed in a future version.\n",
      "  return pd.read_csv(rxpacketfile, sep='\\t', \\\n"
     ]
    },
    {
     "name": "stdout",
     "output_type": "stream",
     "text": [
      "Tokenization took: 69.76 ms\n",
      "Type conversion took: 134.94 ms\n",
      "Parser memory cleanup took: 2.28 ms\n"
     ]
    },
    {
     "name": "stderr",
     "output_type": "stream",
     "text": [
      "/tmp/ipykernel_19617/3772653710.py:5: FutureWarning: The 'verbose' keyword in pd.read_csv is deprecated and will be removed in a future version.\n",
      "  return pd.read_csv(file, sep='\\t', \\\n",
      "/tmp/ipykernel_19617/2786709719.py:6: FutureWarning: The 'verbose' keyword in pd.read_csv is deprecated and will be removed in a future version.\n",
      "  return pd.read_csv(file, sep='\\t', \\\n"
     ]
    },
    {
     "name": "stdout",
     "output_type": "stream",
     "text": [
      "Tokenization took: 94.62 ms\n",
      "Type conversion took: 29.42 ms\n",
      "Parser memory cleanup took: 2.27 ms\n",
      "Tokenization took: 88.38 ms\n",
      "Type conversion took: 32.22 ms\n",
      "Parser memory cleanup took: 1.85 ms\n",
      "Tokenization took: 47.87 ms\n",
      "Type conversion took: 20.86 ms\n",
      "Parser memory cleanup took: 1.11 ms\n"
     ]
    },
    {
     "name": "stderr",
     "output_type": "stream",
     "text": [
      "/tmp/ipykernel_19617/2323235687.py:5: FutureWarning: The 'verbose' keyword in pd.read_csv is deprecated and will be removed in a future version.\n",
      "  return pd.read_csv(file, sep='\\t', \\\n"
     ]
    }
   ],
   "source": [
    "eNBs = []\n",
    "UEs = []\n",
    "\n",
    "rxDF_scenario = getRxPacketFile(eNBs,UEs)\n",
    "cwndDF_scenario = getTcpWindowFile()\n",
    "rttDF_scenario = getTcpRTTFile()\n",
    "dataDF_scenario = getTcpDataFile()"
   ]
  },
  {
   "cell_type": "code",
   "execution_count": 14,
   "id": "b8bd5e7b-c3fc-45dc-843f-d7b682246919",
   "metadata": {},
   "outputs": [
    {
     "name": "stdout",
     "output_type": "stream",
     "text": [
      "RxPacket file loaded as dataframe (eNBs: []), (UEs: [])\n"
     ]
    }
   ],
   "source": [
    "if rxDF_scenario is None:\n",
    "    print('RxPacket file not found!')\n",
    "else:\n",
    "    rxDF_scenario = rxDF_scenario[1:].copy() #First line (headers) is skipped\n",
    "    print(f'RxPacket file loaded as dataframe (eNBs: {eNBs}), (UEs: {UEs})')\n",
    "    rxDF_scenario.index = rxDF_scenario.index.astype('float')\n",
    "    rxDF_scenario['SINR(dB)']   = pd.DataFrame(rxDF_scenario['SINR(dB)'], dtype='float')\n",
    "    rxDF_scenario['rnti']       = pd.DataFrame(rxDF_scenario['rnti'], dtype='int')\n",
    "    rxDF_scenario['cellId']     = pd.DataFrame(rxDF_scenario['cellId'], dtype='int')\n",
    "    rxDF_scenario['TBler']      = pd.DataFrame(rxDF_scenario['TBler'], dtype='float')"
   ]
  },
  {
   "cell_type": "code",
   "execution_count": 15,
   "id": "57f600a3-79e1-4c3d-9122-d9a7633019ff",
   "metadata": {},
   "outputs": [
    {
     "data": {
      "text/html": [
       "<div>\n",
       "<style scoped>\n",
       "    .dataframe tbody tr th:only-of-type {\n",
       "        vertical-align: middle;\n",
       "    }\n",
       "\n",
       "    .dataframe tbody tr th {\n",
       "        vertical-align: top;\n",
       "    }\n",
       "\n",
       "    .dataframe thead th {\n",
       "        text-align: right;\n",
       "    }\n",
       "</style>\n",
       "<table border=\"1\" class=\"dataframe\">\n",
       "  <thead>\n",
       "    <tr style=\"text-align: right;\">\n",
       "      <th></th>\n",
       "      <th>mode</th>\n",
       "      <th>time</th>\n",
       "      <th>frame</th>\n",
       "      <th>subF</th>\n",
       "      <th>1stSym</th>\n",
       "      <th>symbol#</th>\n",
       "      <th>cellId</th>\n",
       "      <th>rnti</th>\n",
       "      <th>ccId</th>\n",
       "      <th>tbSize</th>\n",
       "      <th>mcs</th>\n",
       "      <th>rv</th>\n",
       "      <th>SINR(dB)</th>\n",
       "      <th>corrupt</th>\n",
       "      <th>TBler</th>\n",
       "    </tr>\n",
       "  </thead>\n",
       "  <tbody>\n",
       "    <tr>\n",
       "      <th>24.9992</th>\n",
       "      <td>DL</td>\n",
       "      <td>2499</td>\n",
       "      <td>9</td>\n",
       "      <td>0</td>\n",
       "      <td>1</td>\n",
       "      <td>12</td>\n",
       "      <td>1</td>\n",
       "      <td>1</td>\n",
       "      <td>0</td>\n",
       "      <td>10978</td>\n",
       "      <td>15</td>\n",
       "      <td>0</td>\n",
       "      <td>10.625945</td>\n",
       "      <td>0</td>\n",
       "      <td>0.000</td>\n",
       "    </tr>\n",
       "    <tr>\n",
       "      <th>24.9995</th>\n",
       "      <td>DL</td>\n",
       "      <td>2499</td>\n",
       "      <td>9</td>\n",
       "      <td>1</td>\n",
       "      <td>1</td>\n",
       "      <td>11</td>\n",
       "      <td>1</td>\n",
       "      <td>1</td>\n",
       "      <td>0</td>\n",
       "      <td>10064</td>\n",
       "      <td>15</td>\n",
       "      <td>0</td>\n",
       "      <td>10.625945</td>\n",
       "      <td>0</td>\n",
       "      <td>0.000</td>\n",
       "    </tr>\n",
       "    <tr>\n",
       "      <th>24.9995</th>\n",
       "      <td>UL</td>\n",
       "      <td>2499</td>\n",
       "      <td>9</td>\n",
       "      <td>1</td>\n",
       "      <td>12</td>\n",
       "      <td>1</td>\n",
       "      <td>1</td>\n",
       "      <td>1</td>\n",
       "      <td>0</td>\n",
       "      <td>975</td>\n",
       "      <td>16</td>\n",
       "      <td>0</td>\n",
       "      <td>10.625945</td>\n",
       "      <td>0</td>\n",
       "      <td>0.001</td>\n",
       "    </tr>\n",
       "    <tr>\n",
       "      <th>24.9997</th>\n",
       "      <td>DL</td>\n",
       "      <td>2499</td>\n",
       "      <td>9</td>\n",
       "      <td>2</td>\n",
       "      <td>1</td>\n",
       "      <td>12</td>\n",
       "      <td>1</td>\n",
       "      <td>1</td>\n",
       "      <td>0</td>\n",
       "      <td>10978</td>\n",
       "      <td>15</td>\n",
       "      <td>0</td>\n",
       "      <td>10.625945</td>\n",
       "      <td>0</td>\n",
       "      <td>0.000</td>\n",
       "    </tr>\n",
       "    <tr>\n",
       "      <th>25.0000</th>\n",
       "      <td>DL</td>\n",
       "      <td>2499</td>\n",
       "      <td>9</td>\n",
       "      <td>3</td>\n",
       "      <td>1</td>\n",
       "      <td>12</td>\n",
       "      <td>1</td>\n",
       "      <td>1</td>\n",
       "      <td>0</td>\n",
       "      <td>10978</td>\n",
       "      <td>15</td>\n",
       "      <td>0</td>\n",
       "      <td>10.625945</td>\n",
       "      <td>0</td>\n",
       "      <td>0.000</td>\n",
       "    </tr>\n",
       "  </tbody>\n",
       "</table>\n",
       "</div>"
      ],
      "text/plain": [
       "        mode  time frame subF 1stSym symbol#  cellId  rnti ccId tbSize mcs rv  \\\n",
       "24.9992   DL  2499     9    0      1      12       1     1    0  10978  15  0   \n",
       "24.9995   DL  2499     9    1      1      11       1     1    0  10064  15  0   \n",
       "24.9995   UL  2499     9    1     12       1       1     1    0    975  16  0   \n",
       "24.9997   DL  2499     9    2      1      12       1     1    0  10978  15  0   \n",
       "25.0000   DL  2499     9    3      1      12       1     1    0  10978  15  0   \n",
       "\n",
       "          SINR(dB) corrupt  TBler  \n",
       "24.9992  10.625945       0  0.000  \n",
       "24.9995  10.625945       0  0.000  \n",
       "24.9995  10.625945       0  0.001  \n",
       "24.9997  10.625945       0  0.000  \n",
       "25.0000  10.625945       0  0.000  "
      ]
     },
     "execution_count": 15,
     "metadata": {},
     "output_type": "execute_result"
    }
   ],
   "source": [
    "rxDF_scenario.tail()"
   ]
  },
  {
   "cell_type": "code",
   "execution_count": 16,
   "id": "86e5d7fe-dba9-45f4-876b-a02de9aeef5d",
   "metadata": {},
   "outputs": [
    {
     "data": {
      "text/plain": [
       "Index([0.00403571, 0.00503571, 0.00578571,  0.0340357,  0.0350357,  0.0357857,\n",
       "         0.111786,   0.112786,   0.113536,   0.135732,\n",
       "       ...\n",
       "          24.9985,    24.9987,    24.9987,     24.999,     24.999,    24.9992,\n",
       "          24.9995,    24.9995,    24.9997,       25.0],\n",
       "      dtype='float64', length=150233)"
      ]
     },
     "execution_count": 16,
     "metadata": {},
     "output_type": "execute_result"
    }
   ],
   "source": [
    "rxDF_scenario.index"
   ]
  },
  {
   "cell_type": "code",
   "execution_count": 17,
   "id": "138e939d-34b7-43b2-a3a7-7f03109eb354",
   "metadata": {},
   "outputs": [
    {
     "data": {
      "text/html": [
       "<div>\n",
       "<style scoped>\n",
       "    .dataframe tbody tr th:only-of-type {\n",
       "        vertical-align: middle;\n",
       "    }\n",
       "\n",
       "    .dataframe tbody tr th {\n",
       "        vertical-align: top;\n",
       "    }\n",
       "\n",
       "    .dataframe thead th {\n",
       "        text-align: right;\n",
       "    }\n",
       "</style>\n",
       "<table border=\"1\" class=\"dataframe\">\n",
       "  <thead>\n",
       "    <tr style=\"text-align: right;\">\n",
       "      <th></th>\n",
       "      <th>old_CWND</th>\n",
       "      <th>new_CWND</th>\n",
       "    </tr>\n",
       "    <tr>\n",
       "      <th>time</th>\n",
       "      <th></th>\n",
       "      <th></th>\n",
       "    </tr>\n",
       "  </thead>\n",
       "  <tbody>\n",
       "    <tr>\n",
       "      <th>0.123886</th>\n",
       "      <td>0</td>\n",
       "      <td>14000</td>\n",
       "    </tr>\n",
       "    <tr>\n",
       "      <th>0.147886</th>\n",
       "      <td>14000</td>\n",
       "      <td>15400</td>\n",
       "    </tr>\n",
       "    <tr>\n",
       "      <th>0.147886</th>\n",
       "      <td>15400</td>\n",
       "      <td>16800</td>\n",
       "    </tr>\n",
       "    <tr>\n",
       "      <th>0.147886</th>\n",
       "      <td>16800</td>\n",
       "      <td>18200</td>\n",
       "    </tr>\n",
       "    <tr>\n",
       "      <th>0.147886</th>\n",
       "      <td>18200</td>\n",
       "      <td>19600</td>\n",
       "    </tr>\n",
       "  </tbody>\n",
       "</table>\n",
       "</div>"
      ],
      "text/plain": [
       "          old_CWND  new_CWND\n",
       "time                        \n",
       "0.123886         0     14000\n",
       "0.147886     14000     15400\n",
       "0.147886     15400     16800\n",
       "0.147886     16800     18200\n",
       "0.147886     18200     19600"
      ]
     },
     "execution_count": 17,
     "metadata": {},
     "output_type": "execute_result"
    }
   ],
   "source": [
    "cwndDF_scenario.head()"
   ]
  },
  {
   "cell_type": "code",
   "execution_count": 18,
   "id": "66fed125-e584-464f-82db-7eed20c3db8d",
   "metadata": {},
   "outputs": [
    {
     "data": {
      "text/html": [
       "<div>\n",
       "<style scoped>\n",
       "    .dataframe tbody tr th:only-of-type {\n",
       "        vertical-align: middle;\n",
       "    }\n",
       "\n",
       "    .dataframe tbody tr th {\n",
       "        vertical-align: top;\n",
       "    }\n",
       "\n",
       "    .dataframe thead th {\n",
       "        text-align: right;\n",
       "    }\n",
       "</style>\n",
       "<table border=\"1\" class=\"dataframe\">\n",
       "  <thead>\n",
       "    <tr style=\"text-align: right;\">\n",
       "      <th></th>\n",
       "      <th>old_RTT</th>\n",
       "      <th>new_RTT</th>\n",
       "    </tr>\n",
       "    <tr>\n",
       "      <th>time</th>\n",
       "      <th></th>\n",
       "      <th></th>\n",
       "    </tr>\n",
       "  </thead>\n",
       "  <tbody>\n",
       "    <tr>\n",
       "      <th>0.123886</th>\n",
       "      <td>0.000000</td>\n",
       "      <td>0.023000</td>\n",
       "    </tr>\n",
       "    <tr>\n",
       "      <th>0.147886</th>\n",
       "      <td>0.023000</td>\n",
       "      <td>0.023125</td>\n",
       "    </tr>\n",
       "    <tr>\n",
       "      <th>0.147886</th>\n",
       "      <td>0.023125</td>\n",
       "      <td>0.023234</td>\n",
       "    </tr>\n",
       "    <tr>\n",
       "      <th>0.147886</th>\n",
       "      <td>0.023234</td>\n",
       "      <td>0.023330</td>\n",
       "    </tr>\n",
       "    <tr>\n",
       "      <th>0.147886</th>\n",
       "      <td>0.023330</td>\n",
       "      <td>0.023414</td>\n",
       "    </tr>\n",
       "  </tbody>\n",
       "</table>\n",
       "</div>"
      ],
      "text/plain": [
       "           old_RTT   new_RTT\n",
       "time                        \n",
       "0.123886  0.000000  0.023000\n",
       "0.147886  0.023000  0.023125\n",
       "0.147886  0.023125  0.023234\n",
       "0.147886  0.023234  0.023330\n",
       "0.147886  0.023330  0.023414"
      ]
     },
     "execution_count": 18,
     "metadata": {},
     "output_type": "execute_result"
    }
   ],
   "source": [
    "rttDF_scenario.head()"
   ]
  },
  {
   "cell_type": "code",
   "execution_count": 19,
   "id": "7dcfa895-0509-4428-b937-de035d8537be",
   "metadata": {},
   "outputs": [
    {
     "data": {
      "text/html": [
       "<div>\n",
       "<style scoped>\n",
       "    .dataframe tbody tr th:only-of-type {\n",
       "        vertical-align: middle;\n",
       "    }\n",
       "\n",
       "    .dataframe tbody tr th {\n",
       "        vertical-align: top;\n",
       "    }\n",
       "\n",
       "    .dataframe thead th {\n",
       "        text-align: right;\n",
       "    }\n",
       "</style>\n",
       "<table border=\"1\" class=\"dataframe\">\n",
       "  <thead>\n",
       "    <tr style=\"text-align: right;\">\n",
       "      <th></th>\n",
       "      <th>PKG_SIZE</th>\n",
       "    </tr>\n",
       "    <tr>\n",
       "      <th>time</th>\n",
       "      <th></th>\n",
       "    </tr>\n",
       "  </thead>\n",
       "  <tbody>\n",
       "    <tr>\n",
       "      <th>0.135832</th>\n",
       "      <td>1400</td>\n",
       "    </tr>\n",
       "    <tr>\n",
       "      <th>0.135832</th>\n",
       "      <td>1400</td>\n",
       "    </tr>\n",
       "    <tr>\n",
       "      <th>0.135832</th>\n",
       "      <td>1400</td>\n",
       "    </tr>\n",
       "    <tr>\n",
       "      <th>0.135832</th>\n",
       "      <td>1400</td>\n",
       "    </tr>\n",
       "    <tr>\n",
       "      <th>0.135832</th>\n",
       "      <td>1400</td>\n",
       "    </tr>\n",
       "  </tbody>\n",
       "</table>\n",
       "</div>"
      ],
      "text/plain": [
       "          PKG_SIZE\n",
       "time              \n",
       "0.135832      1400\n",
       "0.135832      1400\n",
       "0.135832      1400\n",
       "0.135832      1400\n",
       "0.135832      1400"
      ]
     },
     "execution_count": 19,
     "metadata": {},
     "output_type": "execute_result"
    }
   ],
   "source": [
    "dataDF_scenario.head()"
   ]
  },
  {
   "cell_type": "code",
   "execution_count": 20,
   "id": "3e04a121-e4e0-465b-98e7-fa377b111625",
   "metadata": {},
   "outputs": [
    {
     "name": "stdout",
     "output_type": "stream",
     "text": [
      "[4.03571e-03 5.03571e-03 5.78571e-03 ... 2.49997e+01 2.49998e+01\n",
      " 2.50000e+01]\n"
     ]
    }
   ],
   "source": [
    "mergedIndexes = np.concatenate((rxDF_scenario.index,cwndDF_scenario.index, rttDF_scenario.index, dataDF_scenario.index))\n",
    "mergedIndexes.sort(kind='merge')\n",
    "mergedIndexes = np.unique(mergedIndexes)\n",
    "print(mergedIndexes)"
   ]
  },
  {
   "cell_type": "code",
   "execution_count": 21,
   "id": "dcb4ff88-abda-45ab-abb3-b6716bd96c5f",
   "metadata": {},
   "outputs": [],
   "source": [
    "from collections import defaultdict\n",
    "d = defaultdict(LabelEncoder)"
   ]
  },
  {
   "cell_type": "code",
   "execution_count": 22,
   "id": "bb545fb4-6eee-4708-b192-51944b7062f2",
   "metadata": {},
   "outputs": [],
   "source": [
    "integerIndexes = d['time'].fit_transform(mergedIndexes)\n"
   ]
  },
  {
   "cell_type": "code",
   "execution_count": 23,
   "id": "9d0820df-f093-434b-8ec4-847317962857",
   "metadata": {},
   "outputs": [
    {
     "data": {
      "text/plain": [
       "array([     0,      1,      2, ..., 209006, 209007, 209008])"
      ]
     },
     "execution_count": 23,
     "metadata": {},
     "output_type": "execute_result"
    }
   ],
   "source": [
    "integerIndexes"
   ]
  },
  {
   "cell_type": "code",
   "execution_count": 24,
   "id": "5a524c23-eee7-44c0-8698-8747c3fcfcb8",
   "metadata": {},
   "outputs": [],
   "source": [
    "rxDF_scenario = rxDF_scenario.set_index(d['time'].transform(rxDF_scenario.index));\n",
    "cwndDF_scenario = cwndDF_scenario.set_index(d['time'].transform(cwndDF_scenario.index));\n",
    "rttDF_scenario = rttDF_scenario.set_index(d['time'].transform(rttDF_scenario.index));\n",
    "dataDF_scenario = dataDF_scenario.set_index(d['time'].transform(dataDF_scenario.index));"
   ]
  },
  {
   "cell_type": "code",
   "execution_count": 25,
   "id": "0c30aed4-be60-413a-a637-30afcd77339e",
   "metadata": {},
   "outputs": [
    {
     "data": {
      "text/plain": [
       "array([1])"
      ]
     },
     "execution_count": 25,
     "metadata": {},
     "output_type": "execute_result"
    }
   ],
   "source": [
    "np.unique(rxDF_scenario['cellId'])"
   ]
  },
  {
   "cell_type": "code",
   "execution_count": 26,
   "id": "7a3b5d63-6d0f-40cd-a77b-7e2382cc6e23",
   "metadata": {},
   "outputs": [
    {
     "name": "stdout",
     "output_type": "stream",
     "text": [
      "unique rnti's: [1]\n",
      "\n",
      "\n",
      "Number of unique rnti's: 1\n",
      "\n",
      "\n",
      " RNTI 1:\n",
      "       mode  time frame subF 1stSym symbol#  cellId  rnti ccId tbSize mcs rv  \\\n",
      "0        DL     0     4    0      1       1       1     1    0     88   0  0   \n",
      "1        UL     0     5    0      1       1       1     1    0     88   0  0   \n",
      "2        DL     0     5    3      1       1       1     1    0   1487  22  0   \n",
      "3        DL     3     4    0      1       1       1     1    0     88   0  0   \n",
      "4        UL     3     5    0      1       1       1     1    0     88   0  0   \n",
      "...     ...   ...   ...  ...    ...     ...     ...   ...  ...    ...  .. ..   \n",
      "209002   DL  2499     9    0      1      12       1     1    0  10978  15  0   \n",
      "209004   DL  2499     9    1      1      11       1     1    0  10064  15  0   \n",
      "209004   UL  2499     9    1     12       1       1     1    0    975  16  0   \n",
      "209006   DL  2499     9    2      1      12       1     1    0  10978  15  0   \n",
      "209008   DL  2499     9    3      1      12       1     1    0  10978  15  0   \n",
      "\n",
      "         SINR(dB) corrupt   TBler  \n",
      "0       18.708960       0  0.0000  \n",
      "1       18.708960       0  0.0000  \n",
      "2       18.708960       0  0.0004  \n",
      "3       18.708960       0  0.0000  \n",
      "4       18.708960       0  0.0000  \n",
      "...           ...     ...     ...  \n",
      "209002  10.625945       0  0.0000  \n",
      "209004  10.625945       0  0.0000  \n",
      "209004  10.625945       0  0.0010  \n",
      "209006  10.625945       0  0.0000  \n",
      "209008  10.625945       0  0.0000  \n",
      "\n",
      "[150233 rows x 15 columns]\n"
     ]
    }
   ],
   "source": [
    "print(f\"unique rnti\\'s: {np.unique(rxDF_scenario['rnti'])}\")\n",
    "print(f\"\\n\\nNumber of unique rnti's: {len(np.unique(rxDF_scenario['rnti']))}\")\n",
    "\n",
    "print(\"\\n\\n RNTI 1:\")\n",
    "print(rxDF_scenario[rxDF_scenario['rnti'] == 1])"
   ]
  },
  {
   "cell_type": "code",
   "execution_count": 27,
   "id": "354196f2-e8ab-40a0-8ff1-7c97b0e18a5d",
   "metadata": {},
   "outputs": [],
   "source": [
    "\n",
    "cellIdGroupedRBs = rxDF_scenario.groupby(['cellId'])\n",
    "rntiCellIdGrouped = rxDF_scenario.groupby(['cellId', 'rnti'])\n",
    "rntiGrouped = rxDF_scenario.groupby(['rnti'])\n",
    "rntiModeGrouped = rxDF_scenario.groupby(['mode', 'rnti'])"
   ]
  },
  {
   "cell_type": "code",
   "execution_count": 28,
   "id": "9d1eac09-a9bb-44e6-98d4-66c0a82a27b6",
   "metadata": {},
   "outputs": [
    {
     "name": "stdout",
     "output_type": "stream",
     "text": [
      "1\n",
      "1\n",
      "1\n",
      "2\n"
     ]
    }
   ],
   "source": [
    "print(len(cellIdGroupedRBs.groups))\n",
    "print(len(rntiCellIdGrouped.groups))\n",
    "print(len(rntiGrouped.groups))\n",
    "print(len(rntiModeGrouped.groups))"
   ]
  },
  {
   "cell_type": "code",
   "execution_count": 33,
   "id": "8a6aaba1-97c1-4e64-a80d-052aae7b5a8b",
   "metadata": {},
   "outputs": [
    {
     "data": {
      "text/plain": [
       "[<matplotlib.axis.YTick at 0x7f8059ff7760>,\n",
       " <matplotlib.axis.YTick at 0x7f8059ff7100>,\n",
       " <matplotlib.axis.YTick at 0x7f805a012620>,\n",
       " <matplotlib.axis.YTick at 0x7f805a013370>,\n",
       " <matplotlib.axis.YTick at 0x7f805a013e20>,\n",
       " <matplotlib.axis.YTick at 0x7f805a012ce0>]"
      ]
     },
     "execution_count": 33,
     "metadata": {},
     "output_type": "execute_result"
    },
    {
     "data": {
      "image/png": "[encoded data removed]",
      "text/plain": [
       "<Figure size 1500x300 with 2 Axes>"
      ]
     },
     "metadata": {},
     "output_type": "display_data"
    }
   ],
   "source": [
    "\n",
    "fig, (ax, ax2) = plt.subplots(ncols=2, sharey=True, figsize=(15,3))\n",
    "\n",
    "# ax.yaxis.tick_right()\n",
    "# ax2.yaxis.tick_right()\n",
    "rntiModeGrouped.get_group(('DL', 1))['SINR(dB)'].plot(style='.', color=\"#337CCF\", ax=ax)\n",
    "rntiModeGrouped.get_group(('UL', 1))['SINR(dB)'].plot(style='.', color='darkorange', ax=ax2)\n",
    "\n",
    "ax.set_yticks([0, 5, 10, 15, 20, 25])\n",
    "ax2.set_yticks([0, 5, 10, 15, 20, 25])\n",
    "\n"
   ]
  },
  {
   "cell_type": "code",
   "execution_count": 30,
   "id": "730090b8-2e1f-4885-bd57-9a0be3417f47",
   "metadata": {},
   "outputs": [
    {
     "name": "stderr",
     "output_type": "stream",
     "text": [
      "/tmp/ipykernel_19617/1535532701.py:1: FutureWarning: When grouping with a length-1 list-like, you will need to pass a length-1 tuple to get_group in a future version of pandas. Pass `(name,)` instead of `name` to silence this warning.\n",
      "  ax = rntiGrouped.get_group(1)['SINR(dB)'].plot(style='.',color=\"#337CCF\")\n"
     ]
    },
    {
     "data": {
      "text/plain": [
       "<Axes: >"
      ]
     },
     "execution_count": 30,
     "metadata": {},
     "output_type": "execute_result"
    },
    {
     "data": {
      "image/png": "[encoded data removed]",
      "text/plain": [
       "<Figure size 640x480 with 2 Axes>"
      ]
     },
     "metadata": {},
     "output_type": "display_data"
    }
   ],
   "source": [
    "ax = rntiGrouped.get_group(1)['SINR(dB)'].plot(style='.',color=\"#337CCF\")\n",
    "ax.set_yticks([0, 5, 10, 15, 20, 25])\n",
    "cwndDF_scenario['new_CWND'].plot(secondary_y=True, style='.', color=\"darkorange\")"
   ]
  },
  {
   "cell_type": "code",
   "execution_count": 31,
   "id": "a8e6851b-beb4-474b-b221-471d281deeb5",
   "metadata": {},
   "outputs": [
    {
     "data": {
      "text/plain": [
       "<Axes: >"
      ]
     },
     "execution_count": 31,
     "metadata": {},
     "output_type": "execute_result"
    },
    {
     "data": {
      "image/png": "[encoded data removed]",
      "text/plain": [
       "<Figure size 640x480 with 1 Axes>"
      ]
     },
     "metadata": {},
     "output_type": "display_data"
    }
   ],
   "source": [
    "cwndDF_scenario['new_CWND'].plot(style='.', color=\"#337CCF\")"
   ]
  },
  {
   "cell_type": "code",
   "execution_count": null,
   "id": "6a4dc342-9281-44e2-b326-983851d6e7d2",
   "metadata": {},
   "outputs": [],
   "source": []
  },
  {
   "cell_type": "code",
   "execution_count": null,
   "id": "a8cea2c9-fbc6-4ed5-a178-0edb08f284b6",
   "metadata": {},
   "outputs": [],
   "source": []
  },
  {
   "cell_type": "code",
   "execution_count": null,
   "id": "29d5387e-270e-4276-a3eb-90745034b08d",
   "metadata": {},
   "outputs": [],
   "source": []
  }
 ],
 "metadata": {
  "kernelspec": {
   "display_name": "Python 3 (ipykernel)",
   "language": "python",
   "name": "python3"
  },
  "language_info": {
   "codemirror_mode": {
    "name": "ipython",
    "version": 3
   },
   "file_extension": ".py",
   "mimetype": "text/x-python",
   "name": "python",
   "nbconvert_exporter": "python",
   "pygments_lexer": "ipython3",
   "version": "3.10.12"
  }
 },
 "nbformat": 4,
 "nbformat_minor": 5
}
